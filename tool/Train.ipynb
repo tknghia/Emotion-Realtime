{
  "nbformat": 4,
  "nbformat_minor": 0,
  "metadata": {
    "colab": {
      "name": "Train",
      "provenance": [],
      "mount_file_id": "1ZF_9jhYncTIjk4Rf2m9bW0WQSSlN7eIQ",
      "authorship_tag": "ABX9TyOkaNvYZqWB96XVfD3scBTZ",
      "include_colab_link": true
    },
    "kernelspec": {
      "name": "python3",
      "display_name": "Python 3"
    },
    "language_info": {
      "name": "python"
    }
  },
  "cells": [
    {
      "cell_type": "markdown",
      "metadata": {
        "id": "view-in-github",
        "colab_type": "text"
      },
      "source": [
        "<a href=\"https://colab.research.google.com/github/18521144/Emotion_Detection/blob/master/Train.ipynb\" target=\"_parent\"><img src=\"https://colab.research.google.com/assets/colab-badge.svg\" alt=\"Open In Colab\"/></a>"
      ]
    },
    {
      "cell_type": "markdown",
      "metadata": {
        "id": "HUY2T8V6af3L"
      },
      "source": [
        "**DOWNLOAD DỮ LIỆU TỪ KAGGLE**\n",
        "\n",
        "LINK: https://www.kaggle.com/msambare/fer2013"
      ]
    },
    {
      "cell_type": "code",
      "metadata": {
        "id": "D9sctjNVZsHp"
      },
      "source": [
        "!pip install -q kaggle\n",
        "\n",
        "from google.colab import files\n",
        "\n",
        "files.upload()"
      ],
      "execution_count": null,
      "outputs": []
    },
    {
      "cell_type": "code",
      "metadata": {
        "id": "bctP6rCnZ1IB"
      },
      "source": [
        "!mkdir ~/.kaggle\n",
        "\n",
        "!cp kaggle.json ~/.kaggle/\n",
        "\n",
        "! chmod 600 ~/.kaggle/kaggle.json"
      ],
      "execution_count": null,
      "outputs": []
    },
    {
      "cell_type": "code",
      "metadata": {
        "id": "6DBOntE2Z_kI"
      },
      "source": [
        "!kaggle datasets download -d msambare/fer2013"
      ],
      "execution_count": null,
      "outputs": []
    },
    {
      "cell_type": "code",
      "metadata": {
        "id": "YQqCZSg-aQXz"
      },
      "source": [
        "!unzip fer2013.zip"
      ],
      "execution_count": null,
      "outputs": []
    },
    {
      "cell_type": "markdown",
      "metadata": {
        "id": "i4Amtp73b8D5"
      },
      "source": [
        "**IMPORT CÁC THƯ VIỆN CẦN THIẾT**\n"
      ]
    },
    {
      "cell_type": "code",
      "metadata": {
        "id": "YXoyLd8EYI0u"
      },
      "source": [
        "import numpy as np\n",
        "import cv2\n",
        "from keras.models import Sequential\n",
        "from keras.layers import Dense, Dropout, Flatten\n",
        "from keras.layers import Conv2D\n",
        "from keras.optimizers import Adam\n",
        "from keras.layers import MaxPooling2D\n",
        "from keras.preprocessing.image import ImageDataGenerator\n",
        "\n"
      ],
      "execution_count": null,
      "outputs": []
    },
    {
      "cell_type": "markdown",
      "metadata": {
        "id": "hT7iVwOpcZLa"
      },
      "source": [
        "**CHUẨN BỊ BỘ DỮ LIỆU TRAIN, TEST**"
      ]
    },
    {
      "cell_type": "code",
      "metadata": {
        "id": "5f6Gz2PRcO0P"
      },
      "source": [
        "train_dir = '/content/train'\n",
        "val_dir = '/content/test'\n",
        "train_datagen = ImageDataGenerator(rescale=1./255)\n",
        "val_datagen = ImageDataGenerator(rescale=1./255)\n",
        "\n",
        "train_generator = train_datagen.flow_from_directory(\n",
        "        train_dir,\n",
        "        target_size=(48,48),\n",
        "        batch_size=64,\n",
        "        color_mode=\"grayscale\",\n",
        "        class_mode='categorical')\n",
        "\n",
        "validation_generator = val_datagen.flow_from_directory(\n",
        "        val_dir,\n",
        "        target_size=(48,48),\n",
        "        batch_size=64,\n",
        "        color_mode=\"grayscale\",\n",
        "        class_mode='categorical')"
      ],
      "execution_count": null,
      "outputs": []
    },
    {
      "cell_type": "markdown",
      "metadata": {
        "id": "73rC3xBggTCn"
      },
      "source": [
        "**XÂY DỰNG MẠNG TÍNH CHẬP**"
      ]
    },
    {
      "cell_type": "code",
      "metadata": {
        "id": "lytobgSdgXck"
      },
      "source": [
        "emotion_model = Sequential()\n",
        "emotion_model.add(Conv2D(32, kernel_size=(3, 3), activation='relu', input_shape=(48,48,1)))\n",
        "emotion_model.add(Conv2D(64, kernel_size=(3, 3), activation='relu'))\n",
        "emotion_model.add(MaxPooling2D(pool_size=(2, 2)))\n",
        "emotion_model.add(Dropout(0.25))\n",
        "emotion_model.add(Conv2D(128, kernel_size=(3, 3), activation='relu'))\n",
        "emotion_model.add(MaxPooling2D(pool_size=(2, 2)))\n",
        "emotion_model.add(Conv2D(128, kernel_size=(3, 3), activation='relu'))\n",
        "emotion_model.add(MaxPooling2D(pool_size=(2, 2)))\n",
        "emotion_model.add(Dropout(0.25))\n",
        "emotion_model.add(Flatten())\n",
        "emotion_model.add(Dense(1024, activation='relu'))\n",
        "emotion_model.add(Dropout(0.5))\n",
        "emotion_model.add(Dense(7, activation='softmax'))"
      ],
      "execution_count": null,
      "outputs": []
    },
    {
      "cell_type": "markdown",
      "metadata": {
        "id": "B-kprrLDggJO"
      },
      "source": [
        "**TRAIN MODEL**"
      ]
    },
    {
      "cell_type": "code",
      "metadata": {
        "id": "sEJjwJy6giCV",
        "colab": {
          "base_uri": "https://localhost:8080/"
        },
        "outputId": "f76177ba-034a-4a7f-90bb-c54741c50ba5"
      },
      "source": [
        "emotion_model.compile(loss='categorical_crossentropy',optimizer=Adam(lr=0.0001, decay=1e-6),metrics=['accuracy'])\n",
        "emotion_model_info = emotion_model.fit_generator(\n",
        "        train_generator,\n",
        "        steps_per_epoch=28709 // 64,\n",
        "        epochs=50,\n",
        "        validation_data=validation_generator,\n",
        "        validation_steps=7178 // 64)"
      ],
      "execution_count": null,
      "outputs": [
        {
          "output_type": "stream",
          "text": [
            "/usr/local/lib/python3.7/dist-packages/tensorflow/python/keras/engine/training.py:1844: UserWarning: `Model.fit_generator` is deprecated and will be removed in a future version. Please use `Model.fit`, which supports generators.\n",
            "  warnings.warn('`Model.fit_generator` is deprecated and '\n"
          ],
          "name": "stderr"
        },
        {
          "output_type": "stream",
          "text": [
            "Epoch 1/50\n",
            "448/448 [==============================] - 397s 883ms/step - loss: 1.8284 - accuracy: 0.2516 - val_loss: 1.7223 - val_accuracy: 0.3486\n",
            "Epoch 2/50\n",
            "448/448 [==============================] - 397s 886ms/step - loss: 1.6633 - accuracy: 0.3507 - val_loss: 1.5522 - val_accuracy: 0.4058\n",
            "Epoch 3/50\n",
            "448/448 [==============================] - 397s 886ms/step - loss: 1.5456 - accuracy: 0.4074 - val_loss: 1.4850 - val_accuracy: 0.4360\n",
            "Epoch 4/50\n",
            "448/448 [==============================] - 392s 875ms/step - loss: 1.4860 - accuracy: 0.4237 - val_loss: 1.4162 - val_accuracy: 0.4621\n",
            "Epoch 5/50\n",
            "448/448 [==============================] - 393s 877ms/step - loss: 1.4274 - accuracy: 0.4514 - val_loss: 1.3702 - val_accuracy: 0.4771\n",
            "Epoch 6/50\n",
            "448/448 [==============================] - 394s 879ms/step - loss: 1.3723 - accuracy: 0.4774 - val_loss: 1.3269 - val_accuracy: 0.4905\n",
            "Epoch 7/50\n",
            "448/448 [==============================] - 392s 875ms/step - loss: 1.3219 - accuracy: 0.4988 - val_loss: 1.2928 - val_accuracy: 0.5068\n",
            "Epoch 8/50\n",
            "448/448 [==============================] - 392s 875ms/step - loss: 1.2795 - accuracy: 0.5192 - val_loss: 1.2645 - val_accuracy: 0.5216\n",
            "Epoch 9/50\n",
            "448/448 [==============================] - 392s 876ms/step - loss: 1.2516 - accuracy: 0.5279 - val_loss: 1.2382 - val_accuracy: 0.5276\n",
            "Epoch 10/50\n",
            "448/448 [==============================] - 393s 877ms/step - loss: 1.2130 - accuracy: 0.5458 - val_loss: 1.2137 - val_accuracy: 0.5311\n",
            "Epoch 11/50\n",
            "448/448 [==============================] - 395s 881ms/step - loss: 1.1765 - accuracy: 0.5609 - val_loss: 1.2058 - val_accuracy: 0.5370\n",
            "Epoch 12/50\n",
            "448/448 [==============================] - 393s 877ms/step - loss: 1.1498 - accuracy: 0.5718 - val_loss: 1.1877 - val_accuracy: 0.5476\n",
            "Epoch 13/50\n",
            "448/448 [==============================] - 392s 875ms/step - loss: 1.1249 - accuracy: 0.5821 - val_loss: 1.1677 - val_accuracy: 0.5573\n",
            "Epoch 14/50\n",
            "448/448 [==============================] - 392s 875ms/step - loss: 1.1049 - accuracy: 0.5880 - val_loss: 1.1601 - val_accuracy: 0.5547\n",
            "Epoch 15/50\n",
            "448/448 [==============================] - 393s 877ms/step - loss: 1.0736 - accuracy: 0.5957 - val_loss: 1.1417 - val_accuracy: 0.5672\n",
            "Epoch 16/50\n",
            "448/448 [==============================] - 392s 875ms/step - loss: 1.0534 - accuracy: 0.6049 - val_loss: 1.1310 - val_accuracy: 0.5670\n",
            "Epoch 17/50\n",
            "448/448 [==============================] - 392s 876ms/step - loss: 1.0364 - accuracy: 0.6154 - val_loss: 1.1165 - val_accuracy: 0.5746\n",
            "Epoch 18/50\n",
            "448/448 [==============================] - 391s 873ms/step - loss: 0.9995 - accuracy: 0.6222 - val_loss: 1.1147 - val_accuracy: 0.5791\n",
            "Epoch 19/50\n",
            "448/448 [==============================] - 391s 873ms/step - loss: 0.9846 - accuracy: 0.6334 - val_loss: 1.1034 - val_accuracy: 0.5819\n",
            "Epoch 20/50\n",
            "448/448 [==============================] - 391s 873ms/step - loss: 0.9625 - accuracy: 0.6462 - val_loss: 1.1012 - val_accuracy: 0.5837\n",
            "Epoch 21/50\n",
            "448/448 [==============================] - 391s 873ms/step - loss: 0.9237 - accuracy: 0.6554 - val_loss: 1.0952 - val_accuracy: 0.5901\n",
            "Epoch 22/50\n",
            "448/448 [==============================] - 390s 870ms/step - loss: 0.9059 - accuracy: 0.6678 - val_loss: 1.1010 - val_accuracy: 0.5894\n",
            "Epoch 23/50\n",
            "448/448 [==============================] - 391s 872ms/step - loss: 0.8862 - accuracy: 0.6735 - val_loss: 1.0824 - val_accuracy: 0.5951\n",
            "Epoch 24/50\n",
            "448/448 [==============================] - 391s 873ms/step - loss: 0.8624 - accuracy: 0.6821 - val_loss: 1.0842 - val_accuracy: 0.5995\n",
            "Epoch 25/50\n",
            "448/448 [==============================] - 391s 873ms/step - loss: 0.8414 - accuracy: 0.6898 - val_loss: 1.0794 - val_accuracy: 0.6004\n",
            "Epoch 26/50\n",
            "448/448 [==============================] - 392s 874ms/step - loss: 0.8103 - accuracy: 0.7070 - val_loss: 1.0787 - val_accuracy: 0.6069\n",
            "Epoch 27/50\n",
            "448/448 [==============================] - 392s 874ms/step - loss: 0.7958 - accuracy: 0.7094 - val_loss: 1.0773 - val_accuracy: 0.6024\n",
            "Epoch 28/50\n",
            "448/448 [==============================] - 392s 876ms/step - loss: 0.7614 - accuracy: 0.7209 - val_loss: 1.0798 - val_accuracy: 0.6021\n",
            "Epoch 29/50\n",
            "448/448 [==============================] - 391s 874ms/step - loss: 0.7533 - accuracy: 0.7245 - val_loss: 1.0832 - val_accuracy: 0.6007\n",
            "Epoch 30/50\n",
            "448/448 [==============================] - 391s 873ms/step - loss: 0.7244 - accuracy: 0.7377 - val_loss: 1.0855 - val_accuracy: 0.6070\n",
            "Epoch 31/50\n",
            "448/448 [==============================] - 400s 893ms/step - loss: 0.7125 - accuracy: 0.7431 - val_loss: 1.0919 - val_accuracy: 0.6069\n",
            "Epoch 32/50\n",
            "448/448 [==============================] - 402s 897ms/step - loss: 0.6868 - accuracy: 0.7451 - val_loss: 1.0796 - val_accuracy: 0.6136\n",
            "Epoch 33/50\n",
            "448/448 [==============================] - 400s 894ms/step - loss: 0.6724 - accuracy: 0.7556 - val_loss: 1.0871 - val_accuracy: 0.6063\n",
            "Epoch 34/50\n",
            "448/448 [==============================] - 400s 894ms/step - loss: 0.6503 - accuracy: 0.7639 - val_loss: 1.0969 - val_accuracy: 0.6091\n",
            "Epoch 35/50\n",
            "448/448 [==============================] - 395s 881ms/step - loss: 0.6316 - accuracy: 0.7740 - val_loss: 1.1043 - val_accuracy: 0.6104\n",
            "Epoch 36/50\n",
            "448/448 [==============================] - 391s 873ms/step - loss: 0.6074 - accuracy: 0.7793 - val_loss: 1.1181 - val_accuracy: 0.6102\n",
            "Epoch 37/50\n",
            "448/448 [==============================] - 391s 874ms/step - loss: 0.5887 - accuracy: 0.7920 - val_loss: 1.1087 - val_accuracy: 0.6148\n",
            "Epoch 38/50\n",
            "448/448 [==============================] - 392s 874ms/step - loss: 0.5607 - accuracy: 0.7955 - val_loss: 1.1213 - val_accuracy: 0.6124\n",
            "Epoch 39/50\n",
            "448/448 [==============================] - 392s 874ms/step - loss: 0.5481 - accuracy: 0.8031 - val_loss: 1.1330 - val_accuracy: 0.6136\n",
            "Epoch 40/50\n",
            "448/448 [==============================] - 391s 873ms/step - loss: 0.5332 - accuracy: 0.8089 - val_loss: 1.1160 - val_accuracy: 0.6152\n",
            "Epoch 41/50\n",
            "448/448 [==============================] - 391s 872ms/step - loss: 0.5101 - accuracy: 0.8150 - val_loss: 1.1303 - val_accuracy: 0.6196\n",
            "Epoch 42/50\n",
            "448/448 [==============================] - 392s 874ms/step - loss: 0.4954 - accuracy: 0.8222 - val_loss: 1.1446 - val_accuracy: 0.6133\n",
            "Epoch 43/50\n",
            "448/448 [==============================] - 391s 872ms/step - loss: 0.4760 - accuracy: 0.8281 - val_loss: 1.1639 - val_accuracy: 0.6137\n",
            "Epoch 44/50\n",
            "448/448 [==============================] - 392s 875ms/step - loss: 0.4735 - accuracy: 0.8304 - val_loss: 1.1531 - val_accuracy: 0.6147\n",
            "Epoch 45/50\n",
            "448/448 [==============================] - 391s 874ms/step - loss: 0.4519 - accuracy: 0.8369 - val_loss: 1.1595 - val_accuracy: 0.6179\n",
            "Epoch 46/50\n",
            "448/448 [==============================] - 392s 874ms/step - loss: 0.4398 - accuracy: 0.8414 - val_loss: 1.1638 - val_accuracy: 0.6223\n",
            "Epoch 47/50\n",
            "448/448 [==============================] - 390s 870ms/step - loss: 0.4176 - accuracy: 0.8480 - val_loss: 1.1759 - val_accuracy: 0.6219\n",
            "Epoch 48/50\n",
            "448/448 [==============================] - 390s 870ms/step - loss: 0.4098 - accuracy: 0.8553 - val_loss: 1.1980 - val_accuracy: 0.6197\n",
            "Epoch 49/50\n",
            "448/448 [==============================] - 390s 870ms/step - loss: 0.3980 - accuracy: 0.8571 - val_loss: 1.1896 - val_accuracy: 0.6205\n",
            "Epoch 50/50\n",
            "448/448 [==============================] - 389s 869ms/step - loss: 0.3845 - accuracy: 0.8610 - val_loss: 1.1971 - val_accuracy: 0.6219\n"
          ],
          "name": "stdout"
        }
      ]
    },
    {
      "cell_type": "markdown",
      "metadata": {
        "id": "OeOD5z4bPnG6"
      },
      "source": [
        "**SAVE MODEL**"
      ]
    },
    {
      "cell_type": "code",
      "metadata": {
        "id": "wA53x_DU0URs"
      },
      "source": [
        "emotion_model.save_weights('model.h5')\n"
      ],
      "execution_count": null,
      "outputs": []
    }
  ]
}